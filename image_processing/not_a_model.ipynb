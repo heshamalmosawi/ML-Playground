{
 "cells": [
  {
   "cell_type": "code",
   "execution_count": 1,
   "metadata": {},
   "outputs": [],
   "source": [
    "from PIL import Image, ImageDraw, ImageFont"
   ]
  },
  {
   "cell_type": "code",
   "execution_count": 2,
   "metadata": {},
   "outputs": [],
   "source": [
    "\n",
    "# Create a 200x200 pixel image with a solid blue background\n",
    "image = Image.new(\"RGB\", (200, 200), \"blue\")\n",
    "\n",
    "# Create a drawing object\n",
    "draw = ImageDraw.Draw(image)\n",
    "\n",
    "# Draw a rectangle on the image\n",
    "rectangle_coords = (50, 50, 150, 150)  # Top-left and bottom-right corners\n",
    "draw.rectangle(rectangle_coords, fill=\"yellow\", outline=\"black\", width=3)\n",
    "\n",
    "text = \"Example Text\"\n",
    "font_size = 20"
   ]
  },
  {
   "cell_type": "code",
   "execution_count": 3,
   "metadata": {},
   "outputs": [],
   "source": [
    "try:\n",
    "    # Using default font\n",
    "    font = ImageFont.load_default()\n",
    "    text_bbox = draw.textbbox((0, 0), text, font=font)\n",
    "    text_width, text_height = text_bbox[2] - text_bbox[0], text_bbox[3] - text_bbox[1]\n",
    "    draw.text((0,0), text, font=font, fill=\"white\")\n",
    "except IOError:\n",
    "    draw.text((60, 160), text, fill=\"white\")  # Fallback\n",
    "\n",
    "image.save(\"./generated_image.jpg\")\n"
   ]
  },
  {
   "cell_type": "code",
   "execution_count": 4,
   "metadata": {},
   "outputs": [],
   "source": [
    "# resizing the image\n",
    "image.resize((100, 100)).save(\"./resized_image.jpg\")"
   ]
  },
  {
   "cell_type": "code",
   "execution_count": 5,
   "metadata": {},
   "outputs": [],
   "source": [
    "# converting to grayscale\n",
    "image.convert(\"L\").save(\"./grayscale_image.jpg\")"
   ]
  },
  {
   "cell_type": "code",
   "execution_count": 6,
   "metadata": {},
   "outputs": [],
   "source": [
    "# rotating the image\n",
    "image.rotate(90).save(\"./rotated_image.jpg\")"
   ]
  }
 ],
 "metadata": {
  "kernelspec": {
   "display_name": "myenv",
   "language": "python",
   "name": "python3"
  },
  "language_info": {
   "codemirror_mode": {
    "name": "ipython",
    "version": 3
   },
   "file_extension": ".py",
   "mimetype": "text/x-python",
   "name": "python",
   "nbconvert_exporter": "python",
   "pygments_lexer": "ipython3",
   "version": "3.12.3"
  }
 },
 "nbformat": 4,
 "nbformat_minor": 2
}
